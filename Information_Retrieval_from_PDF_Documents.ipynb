{
  "nbformat": 4,
  "nbformat_minor": 0,
  "metadata": {
    "colab": {
      "provenance": []
    },
    "kernelspec": {
      "name": "python3",
      "display_name": "Python 3"
    },
    "language_info": {
      "name": "python"
    }
  },
  "cells": [
    {
      "cell_type": "markdown",
      "source": [
        "# Information Retrieval from PDF Documents"
      ],
      "metadata": {
        "id": "ZniYUYRsgBn8"
      }
    },
    {
      "cell_type": "markdown",
      "source": [
        "**PyPDF2 to read and extract text from the PDF**"
      ],
      "metadata": {
        "id": "eahqJYPcfuTc"
      }
    },
    {
      "cell_type": "code",
      "source": [
        "!pip install PyPDF2"
      ],
      "metadata": {
        "colab": {
          "base_uri": "https://localhost:8080/"
        },
        "id": "dzKX6a4Nb-bl",
        "outputId": "0b8333bb-b722-4569-e62c-32395c4e907d"
      },
      "execution_count": 2,
      "outputs": [
        {
          "output_type": "stream",
          "name": "stdout",
          "text": [
            "Collecting PyPDF2\n",
            "  Downloading pypdf2-3.0.1-py3-none-any.whl.metadata (6.8 kB)\n",
            "Downloading pypdf2-3.0.1-py3-none-any.whl (232 kB)\n",
            "\u001b[?25l   \u001b[90m━━━━━━━━━━━━━━━━━━━━━━━━━━━━━━━━━━━━━━━━\u001b[0m \u001b[32m0.0/232.6 kB\u001b[0m \u001b[31m?\u001b[0m eta \u001b[36m-:--:--\u001b[0m\r\u001b[2K   \u001b[91m━━━━━━━━━━━━━━━━━━━━━━━━━━━━━━━━━━━━━━\u001b[0m\u001b[91m╸\u001b[0m\u001b[90m━\u001b[0m \u001b[32m225.3/232.6 kB\u001b[0m \u001b[31m7.6 MB/s\u001b[0m eta \u001b[36m0:00:01\u001b[0m\r\u001b[2K   \u001b[90m━━━━━━━━━━━━━━━━━━━━━━━━━━━━━━━━━━━━━━━━\u001b[0m \u001b[32m232.6/232.6 kB\u001b[0m \u001b[31m5.3 MB/s\u001b[0m eta \u001b[36m0:00:00\u001b[0m\n",
            "\u001b[?25hInstalling collected packages: PyPDF2\n",
            "Successfully installed PyPDF2-3.0.1\n"
          ]
        }
      ]
    },
    {
      "cell_type": "markdown",
      "source": [
        "# Classes and Their Responsibilities\n",
        "**PDFProcessor Class**\n",
        "\n",
        " *Handles PDF file validation and text extraction.\n",
        "Encapsulates the logic for interacting with the PDF file.\n",
        "Attributes:*\n",
        "\n",
        "\n",
        "\n",
        "```\n",
        "\n",
        "pdf_path (str): # Path to the PDF file.\n",
        "text (str):  # Extracted text from the PDF.\n",
        "```\n",
        "\n",
        "\n",
        "\n",
        "**Methods:**\n",
        "\n",
        "\n",
        "\n",
        "```\n",
        "validate_pdf(): # Checks if the file exists and is a valid PDF.\n",
        "extract_text(): # Reads the PDF and extracts text from its pages.\n",
        "```\n",
        "\n",
        "\n",
        "\n",
        "**KeywordSearcher Class**\n",
        "\n",
        " ***Handles keyword searching within the extracted text.\n",
        "Encapsulates the logic for splitting text into sentences and finding matches.\n",
        "Attributes:***\n",
        "\n",
        "\n",
        "\n",
        "```\n",
        "text (str): # Extracted text to search within.\n",
        "keywords (list): # List of keywords to search for.\n",
        "```\n",
        "\n",
        "\n",
        "**Methods:**\n",
        "\n",
        "`search(): # Splits text into sentences and finds sentences containing the keywords.`\n",
        "\n",
        "**PDFKeywordSearchApp Class**\n",
        "\n",
        "Orchestrates the overall workflow of the program.\n",
        "Provides the user interface for file input and keyword searching.\n",
        "Methods: *italicized text*\n",
        "\n",
        "`run(): Main method that drives the program execution.`"
      ],
      "metadata": {
        "id": "JEh8lIQXgrBs"
      }
    },
    {
      "cell_type": "markdown",
      "source": [
        "# Step 1: Import Libraries"
      ],
      "metadata": {
        "id": "JKp04jDshgRM"
      }
    },
    {
      "cell_type": "code",
      "source": [
        "import PyPDF2\n",
        "import re\n",
        "import os"
      ],
      "metadata": {
        "id": "Jcytdb0-hhoU"
      },
      "execution_count": null,
      "outputs": []
    },
    {
      "cell_type": "markdown",
      "source": [
        "# Step 2: Define the PDFProcessor Class\n"
      ],
      "metadata": {
        "id": "pbJAPcXKhjK0"
      }
    },
    {
      "cell_type": "code",
      "source": [
        "class PDFProcessor:\n",
        "    def __init__(self, pdf_path):\n",
        "        \"\"\"Initialize with the path to the PDF file.\"\"\"\n",
        "        self.pdf_path = pdf_path\n",
        "        self.text = \"\"  # Placeholder for extracted text\n",
        "\n",
        "    def validate_pdf(self):\n",
        "        \"\"\"Check if the file exists and is a valid PDF.\"\"\"\n",
        "        if not os.path.isfile(self.pdf_path):\n",
        "            raise FileNotFoundError(\"File not found. Please ensure the path is correct.\")\n",
        "        if not self.pdf_path.lower().endswith('.pdf'):\n",
        "            raise ValueError(\"The selected file is not a PDF.\")\n",
        "\n",
        "    def extract_text(self):\n",
        "        \"\"\"Extract text from the PDF file.\"\"\"\n",
        "        with open(self.pdf_path, 'rb') as file:\n",
        "            reader = PyPDF2.PdfReader(file)\n",
        "            for page in reader.pages:\n",
        "                self.text += page.extract_text() + \"\\n\"\n"
      ],
      "metadata": {
        "id": "qD264xyahnBN"
      },
      "execution_count": null,
      "outputs": []
    },
    {
      "cell_type": "markdown",
      "source": [
        "# Step 3: Define the KeywordSearcher Class"
      ],
      "metadata": {
        "id": "vZeVgc-AhrPE"
      }
    },
    {
      "cell_type": "code",
      "source": [
        "class KeywordSearcher:\n",
        "    def __init__(self, text, keywords):\n",
        "        self.text = text\n",
        "        self.keywords = keywords\n",
        "\n",
        "    def search(self):\n",
        "        \"\"\"Search for keywords in text and return matching sentences.\"\"\"\n",
        "        results = {}\n",
        "        # Simplified sentence splitting\n",
        "        sentences = re.split(r'(?<=[.!?])\\s+', self.text)\n",
        "        for keyword in self.keywords:\n",
        "            results[keyword] = [sentence for sentence in sentences if keyword.lower() in sentence.lower()]\n",
        "        return results"
      ],
      "metadata": {
        "id": "bk0rOSuQht4c"
      },
      "execution_count": null,
      "outputs": []
    },
    {
      "cell_type": "markdown",
      "source": [
        "# Step 4: Define the PDFKeywordSearchApp Class"
      ],
      "metadata": {
        "id": "ZZXiI5Plh0Kc"
      }
    },
    {
      "cell_type": "code",
      "source": [
        "class PDFKeywordSearchApp:\n",
        "    def run(self):\n",
        "        try:\n",
        "            pdf_path = input(\"Enter the full path to your PDF file: \")\n",
        "            processor = PDFProcessor(pdf_path)\n",
        "            processor.validate_pdf()\n",
        "            processor.extract_text()\n",
        "\n",
        "            keywords = input(\"Enter keywords to search (comma-separated): \").split(',')\n",
        "            searcher = KeywordSearcher(processor.text, keywords)\n",
        "            results = searcher.search()\n",
        "\n",
        "            print(\"\\nSearch Results:\")\n",
        "            for keyword, sentences in results.items():\n",
        "                print(f\"\\nKeyword: {keyword.strip()}\\n\")\n",
        "                for sentence in sentences:\n",
        "                    print(f\"- {sentence.strip()}\")\n",
        "        except (FileNotFoundError, ValueError) as e:\n",
        "            print(f\"Error: {e}\")"
      ],
      "metadata": {
        "id": "uc_RAVq0h5FV"
      },
      "execution_count": null,
      "outputs": []
    },
    {
      "cell_type": "markdown",
      "source": [
        "# Step 5: Add the Entry Point"
      ],
      "metadata": {
        "id": "gE-_V5jvh7K8"
      }
    },
    {
      "cell_type": "code",
      "execution_count": 9,
      "metadata": {
        "colab": {
          "base_uri": "https://localhost:8080/"
        },
        "id": "dWR2LLHPbtDV",
        "outputId": "785cce94-c51e-4470-c33f-dcd0b44bd167"
      },
      "outputs": [
        {
          "output_type": "stream",
          "name": "stdout",
          "text": [
            "Enter the full path to your PDF file: /content/CSCM13 2022_8572818.PDF\n",
            "Enter keywords to search (comma-separated): (0 <= X\n",
            "\n",
            "Search Results:\n",
            "\n",
            "Keyword: (0 <= X\n",
            "\n",
            "- (2) (Z + Y = X + Aux ^0<= Aux ^Aux<= Y^ :(Aux = 0) ^Aux1 = Aux - 2 ^Z1 = Z - 1)\n",
            "!(Z1 + Y = X + Aux1 ^0<= Aux1 ^Aux1 <= Y)\n",
            "(3) (0 <= X^X<= 1000 ^0<= Y^Y<= 1000 ^Aux = Y ^Z = X )\n",
            "!(Z + Y = X + Aux ^0<= Aux ^Aux<= Y)\n",
            "(d) Which of the generated veri\fcation conditions are universally true?\n"
          ]
        }
      ],
      "source": [
        "if __name__ == \"__main__\":\n",
        "    app = PDFKeywordSearchApp()\n",
        "    app.run()"
      ]
    }
  ]
}